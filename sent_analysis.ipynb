{
 "cells": [
  {
   "cell_type": "markdown",
   "metadata": {},
   "source": [
    "## Persian Twitter Dataset\n",
    "About Dataset\n",
    "\n",
    "This dataset contains more than 3300 Persian tweets, crawled from Twitter.com\n",
    "Each tweet is assigned a label, which is a number between 0 to 4.\n",
    "Label 0 indicates the sentiment of Happiness and Joy.\n",
    "Label 1 indicates the sentiment of Sadness.\n",
    "Label 2 indicates the sentiment of Anger and Furiosity.\n",
    "Label 3 indicates the sentiment of Neutral.\n",
    "And finally, label 4 indicates the sentiment of intense emotions, such as Surprise, Fear, and Love."
   ]
  },
  {
   "cell_type": "code",
   "execution_count": 2,
   "metadata": {},
   "outputs": [
    {
     "data": {
      "text/plain": [
       "Label\n",
       "Sad                 1120\n",
       "Happy               1057\n",
       "Intense Emotions     415\n",
       "Neutral              401\n",
       "Angry                388\n",
       "Name: count, dtype: int64"
      ]
     },
     "execution_count": 2,
     "metadata": {},
     "output_type": "execute_result"
    }
   ],
   "source": [
    "import pandas as pd\n",
    "\n",
    "df2= pd.read_csv('./PersianTwitterDataset.csv')\n",
    "df2.Label.value_counts()"
   ]
  },
  {
   "cell_type": "code",
   "execution_count": 3,
   "metadata": {},
   "outputs": [],
   "source": [
    "import random\n",
    "i= random.randint(0, 3300)\n",
    "# print(df2.loc[i, 'Tweets'])\n",
    "# print(df2.loc[i, 'Label'])"
   ]
  },
  {
   "cell_type": "markdown",
   "metadata": {},
   "source": [
    "## Persian tweets emotional dataset\n",
    "About Dataset\n",
    "New Persian Dataset\n",
    "Since Persian datasets are really scarce I scrape Twitter in order to make a new Persian dataset.\n",
    "\n",
    "The tweets have been pulled from Twitter using snscrape and manual tagging has been done based on Ekman's 6 main emotions.\n",
    "For privacy sake, I pre-process and remove usernames, display names, and mentions from all tweets. Also, I deleted the timestamps and Tweets IDs.\n",
    "\n",
    "Columns:\n",
    "1) tweet\n",
    "2) replyCount\n",
    "3) retweetCount\n",
    "4) likeCount\n",
    "5) quoteCount\n",
    "6) hashtags\n",
    "7) sourceLabel\n",
    "8) emotion\n",
    "\n",
    "Please leave an upvote if you find this relevant. :)"
   ]
  },
  {
   "cell_type": "code",
   "execution_count": 4,
   "metadata": {},
   "outputs": [
    {
     "data": {
      "text/plain": [
       "emotion\n",
       "sad         34328\n",
       "joy         28024\n",
       "anger       20069\n",
       "fear        17624\n",
       "surprise    12859\n",
       "disgust       925\n",
       "Name: count, dtype: int64"
      ]
     },
     "execution_count": 4,
     "metadata": {},
     "output_type": "execute_result"
    }
   ],
   "source": [
    "df= pd.read_csv('./merged.csv')\n",
    "df.emotion.value_counts()"
   ]
  },
  {
   "cell_type": "code",
   "execution_count": 5,
   "metadata": {},
   "outputs": [
    {
     "name": "stdout",
     "output_type": "stream",
     "text": [
      "<class 'pandas.core.frame.DataFrame'>\n",
      "RangeIndex: 6156 entries, 0 to 6155\n",
      "Data columns (total 2 columns):\n",
      " #   Column   Non-Null Count  Dtype \n",
      "---  ------   --------------  ----- \n",
      " 0   tweet    6151 non-null   object\n",
      " 1   emotion  6154 non-null   object\n",
      "dtypes: object(2)\n",
      "memory usage: 96.3+ KB\n"
     ]
    }
   ],
   "source": [
    "df3 = pd.read_excel('./train_fa.xlsx')\n",
    "df3.info()"
   ]
  },
  {
   "cell_type": "code",
   "execution_count": 6,
   "metadata": {},
   "outputs": [
    {
     "data": {
      "text/plain": [
       "tweet      5\n",
       "emotion    2\n",
       "dtype: int64"
      ]
     },
     "execution_count": 6,
     "metadata": {},
     "output_type": "execute_result"
    }
   ],
   "source": [
    "df3.isna().sum()"
   ]
  },
  {
   "cell_type": "code",
   "execution_count": 7,
   "metadata": {},
   "outputs": [
    {
     "name": "stdout",
     "output_type": "stream",
     "text": [
      "tweet      0\n",
      "emotion    0\n",
      "dtype: int64\n",
      "0\n"
     ]
    },
    {
     "data": {
      "text/html": [
       "<div>\n",
       "<style scoped>\n",
       "    .dataframe tbody tr th:only-of-type {\n",
       "        vertical-align: middle;\n",
       "    }\n",
       "\n",
       "    .dataframe tbody tr th {\n",
       "        vertical-align: top;\n",
       "    }\n",
       "\n",
       "    .dataframe thead th {\n",
       "        text-align: right;\n",
       "    }\n",
       "</style>\n",
       "<table border=\"1\" class=\"dataframe\">\n",
       "  <thead>\n",
       "    <tr style=\"text-align: right;\">\n",
       "      <th></th>\n",
       "      <th>tweet</th>\n",
       "      <th>emotion</th>\n",
       "    </tr>\n",
       "  </thead>\n",
       "  <tbody>\n",
       "    <tr>\n",
       "      <th>0</th>\n",
       "      <td>از صدای پرنده دم دمای صبح متنفرم متنفرم متنفرم</td>\n",
       "      <td>HATE</td>\n",
       "    </tr>\n",
       "    <tr>\n",
       "      <th>1</th>\n",
       "      <td>\"کیفیتش خیلی خوبه با شک خریدم ولی واقعا راضیم...</td>\n",
       "      <td>SAD</td>\n",
       "    </tr>\n",
       "    <tr>\n",
       "      <th>2</th>\n",
       "      <td>چون همش با دوربین ثبت شده ، ایا میشه اعتراض زد...</td>\n",
       "      <td>OTHER</td>\n",
       "    </tr>\n",
       "    <tr>\n",
       "      <th>3</th>\n",
       "      <td>اين وضع ب طرز خنده داري گريه داره ...</td>\n",
       "      <td>SAD</td>\n",
       "    </tr>\n",
       "    <tr>\n",
       "      <th>4</th>\n",
       "      <td>خب من رسما از یک نفر متنفرم،چون از گربه بدش می...</td>\n",
       "      <td>HATE</td>\n",
       "    </tr>\n",
       "    <tr>\n",
       "      <th>...</th>\n",
       "      <td>...</td>\n",
       "      <td>...</td>\n",
       "    </tr>\n",
       "    <tr>\n",
       "      <th>6151</th>\n",
       "      <td>مرحوم پیش بینی آبکی زیاد میکرد     مرحوم عجب آ...</td>\n",
       "      <td>SURPRISE</td>\n",
       "    </tr>\n",
       "    <tr>\n",
       "      <th>6152</th>\n",
       "      <td>کلا عین اعتقادات و توئیت زدناتون ... !!   در ق...</td>\n",
       "      <td>ANGRY</td>\n",
       "    </tr>\n",
       "    <tr>\n",
       "      <th>6153</th>\n",
       "      <td>خب وقتی میگی کسی بیاد مارو بگیره یارو ترس میکن...</td>\n",
       "      <td>FEAR</td>\n",
       "    </tr>\n",
       "    <tr>\n",
       "      <th>6154</th>\n",
       "      <td>همون هارو     مگه آهنگ جدیدای خواننده‌های دهه ...</td>\n",
       "      <td>SURPRISE</td>\n",
       "    </tr>\n",
       "    <tr>\n",
       "      <th>6155</th>\n",
       "      <td>نیم دگیرش چطور حل نیشد</td>\n",
       "      <td>OTHER</td>\n",
       "    </tr>\n",
       "  </tbody>\n",
       "</table>\n",
       "<p>6112 rows × 2 columns</p>\n",
       "</div>"
      ],
      "text/plain": [
       "                                                  tweet   emotion\n",
       "0        از صدای پرنده دم دمای صبح متنفرم متنفرم متنفرم      HATE\n",
       "1      \"کیفیتش خیلی خوبه با شک خریدم ولی واقعا راضیم...       SAD\n",
       "2     چون همش با دوربین ثبت شده ، ایا میشه اعتراض زد...     OTHER\n",
       "3                 اين وضع ب طرز خنده داري گريه داره ...       SAD\n",
       "4     خب من رسما از یک نفر متنفرم،چون از گربه بدش می...      HATE\n",
       "...                                                 ...       ...\n",
       "6151  مرحوم پیش بینی آبکی زیاد میکرد     مرحوم عجب آ...  SURPRISE\n",
       "6152  کلا عین اعتقادات و توئیت زدناتون ... !!   در ق...     ANGRY\n",
       "6153  خب وقتی میگی کسی بیاد مارو بگیره یارو ترس میکن...      FEAR\n",
       "6154  همون هارو     مگه آهنگ جدیدای خواننده‌های دهه ...  SURPRISE\n",
       "6155                            نیم دگیرش چطور حل نیشد      OTHER\n",
       "\n",
       "[6112 rows x 2 columns]"
      ]
     },
     "execution_count": 7,
     "metadata": {},
     "output_type": "execute_result"
    }
   ],
   "source": [
    "import re\n",
    "# drop the rows tha have nan values\n",
    "df3= df3.dropna()\n",
    "print(df3.isna().sum())\n",
    "\n",
    "# drop the duplicated values\n",
    "df3= df3.drop_duplicates()\n",
    "print(df3.duplicated().sum())\n",
    "df3\n",
    "\n"
   ]
  },
  {
   "cell_type": "code",
   "execution_count": 8,
   "metadata": {},
   "outputs": [
    {
     "name": "stdout",
     "output_type": "stream",
     "text": [
      "emotion\n",
      "OTHER       27.405105\n",
      "ANGRY       15.019634\n",
      "SAD         14.725131\n",
      "FEAR        12.238220\n",
      "SURPRISE    12.009162\n",
      "HAPPY       10.176702\n",
      "HATE         8.426047\n",
      "Name: proportion, dtype: float64\n"
     ]
    },
    {
     "data": {
      "image/png": "[encoded data removed]",
      "text/plain": [
       "<Figure size 640x480 with 1 Axes>"
      ]
     },
     "metadata": {},
     "output_type": "display_data"
    },
    {
     "name": "stdout",
     "output_type": "stream",
     "text": [
      "Imbalance Ratio: 3.25\n"
     ]
    }
   ],
   "source": [
    "import seaborn as sns\n",
    "import matplotlib.pyplot as plt\n",
    "\n",
    "\n",
    "# Distribution of emotions in the dataset\n",
    "print(df3[\"emotion\"].value_counts(normalize=True)* 100)\n",
    "\n",
    "\n",
    "# Distribution of emotions in the dataset plot\n",
    "sns.countplot(x=df3[\"emotion\"])\n",
    "plt.xticks(rotation=100)\n",
    "plt.title(\"Distribution of emotions in the dataset\")\n",
    "plt.show()\n",
    "\n",
    "\n",
    "\n",
    "\n",
    "# Calculate Imbalance Ratio\n",
    "class_counts = df3[\"emotion\"].value_counts()\n",
    "max_class = class_counts.max()\n",
    "min_class = class_counts.min()\n",
    "imbalance_ratio = max_class / min_class\n",
    "print(f\"Imbalance Ratio: {imbalance_ratio:.2f}\")\n"
   ]
  },
  {
   "cell_type": "code",
   "execution_count": 9,
   "metadata": {},
   "outputs": [
    {
     "name": "stdout",
     "output_type": "stream",
     "text": [
      "نگاشت لیبل‌ها: {'ANGRY': 0, 'FEAR': 1, 'HAPPY': 2, 'HATE': 3, 'OTHER': 4, 'SAD': 5, 'SURPRISE': 6}\n"
     ]
    }
   ],
   "source": [
    "from sklearn.preprocessing import LabelEncoder\n",
    "\n",
    "# تبدیل لیبل‌ها به اعداد\n",
    "le = LabelEncoder()\n",
    "df3['emotion'] = le.fit_transform(df3['emotion'])\n",
    "\n",
    "# نمایش نگاشت لیبل‌ها\n",
    "label_mapping = dict(zip(le.classes_, le.transform(le.classes_)))\n",
    "print(\"نگاشت لیبل‌ها:\", label_mapping)\n"
   ]
  },
  {
   "cell_type": "code",
   "execution_count": 10,
   "metadata": {},
   "outputs": [],
   "source": [
    "import re\n",
    "def clean_text(text):\n",
    "    text = re.sub(r\"http\\S+|www\\S+\", \"\", text)  # حذف لینک‌ها\n",
    "    text = re.sub(r\"@\\S+\", \"\", text)  # حذف منشن‌ها (@mentions)\n",
    "    text = re.sub(r\"#\\S+\", \"\", text)  # حذف هشتگ‌ها (#hashtags)\n",
    "    text = re.sub(r\"[^\\w\\s]\", \"\", text)  # حذف علائم نگارشی\n",
    "    text = re.sub(r\"\\s+\", \" \", text).strip()  # حذف فاصله‌های اضافی\n",
    "    return text\n",
    "\n",
    "df3['clean_text'] = df3['tweet'].apply(clean_text)\n",
    "\n",
    "\n",
    "# i = df3.apply(lambda row: 1 if row['clean_text'] != row['tweet'] else 0, axis=1).sum()\n",
    "# print(i)"
   ]
  },
  {
   "cell_type": "code",
   "execution_count": 11,
   "metadata": {},
   "outputs": [],
   "source": [
    "# rows_to_remove = df3[df3['tweet'].str.match(r'^\\s*(http|@|#).*$', case=False)]\n",
    "# # چاپ سطر‌هایی که حذف می‌شوند\n",
    "# print(\"سطر‌های حذف شده:\")\n",
    "# print(len(rows_to_remove))\n",
    "\n",
    "\n",
    "# # Filter rows that only contain links, @ or #\n",
    "# df3 = df3[~df3['tweet'].str.match(r'^\\s*(http|@|#).*$', case=False)]\n",
    "\n"
   ]
  },
  {
   "cell_type": "code",
   "execution_count": 12,
   "metadata": {},
   "outputs": [
    {
     "name": "stdout",
     "output_type": "stream",
     "text": [
      "Original Text: خداییش مردا یه چند ماه نرن استادیوم این اعتراض که دیگه ضرر جانی و مالی هم نداره راحت ترین اعتراضه اگه ملت این کار رو هم نکنن دیگه\n",
      "Processed Text: ['خدا', 'مردا', 'یه', 'ماه', 'نرن', 'استادیوم', 'اعتراض', 'دیگه', 'ضرر', 'جانی', 'مالی', 'نداره', 'راحت', 'اعتراضه', 'اگه', 'ملت', 'کار', 'نکنن', 'دیگه']\n"
     ]
    }
   ],
   "source": [
    "from hazm import Normalizer, WordTokenizer, stopwords_list, Lemmatizer\n",
    "import random\n",
    "import string\n",
    "\n",
    "def preprocessing(text, Apply_normalizer= True, Aplly_wordtokenizer= True, remove_stop_words= True, Apply_lemmatizer=True, remove_numbers=True):\n",
    "  '''\n",
    "  Cleaning and preprocessing the given text.\n",
    "\n",
    "  Args:\n",
    "    text (str): the input text that we want to work on in.\n",
    "    Apply_normalizer (bool): if True, shows that text will bee normalize by hazm. Defualt is True\n",
    "    Aplly_wordtokenizer (bool): if True, the text will tokenize. Defualt is True\n",
    "    remove_stop_words (list): a list that have the set of stopwords in pesian. Defualt is True\n",
    "    Apply_lemmatizer (bool): change the word to its root. Defualt is True\n",
    "    remove_numbers (bool): remove the numbers from text\n",
    "    replace the \\u200c:( text = \"می‌خوانم کتابی از کتاب‌خانه و دانش‌آموزان را می‌بینم.\"\n",
    "                        processed_text = ['می\\u200cخوانم', 'کتابی', 'از', 'کتاب\\u200cخانه', 'و', 'دانش\\u200cآموزان', 'را', 'می\\u200cبینم'])\n",
    "    string.punctuation : removes this karakters (!\"#$%&'()*+,-./:;<=>?@[\\]^_`{|}~)\n",
    "\n",
    "  Return:\n",
    "    filtered (list): list of words(of text) after cleaning and preprocessing.\n",
    "  '''\n",
    "\n",
    "  \n",
    "  # Initinalize requiared tools from Hazm\n",
    "  normalizer= Normalizer()\n",
    "  wordtokenizer= WordTokenizer()\n",
    "  stopword_lst= stopwords_list()\n",
    "  lemmatizer = Lemmatizer()\n",
    "  panctuation= string.punctuation +  \"؟،؛.,#\"\n",
    "  \n",
    "\n",
    "\n",
    "  # Step 1 : Normalize the text\n",
    "  if Apply_normalizer:\n",
    "    text= normalizer.normalize(text)\n",
    "\n",
    "\n",
    "    \n",
    "  # Step 2: Tokenize the text to words\n",
    "  if Aplly_wordtokenizer:\n",
    "    words= wordtokenizer.tokenize(text)\n",
    "\n",
    "\n",
    "\n",
    "  # Step 3: delete the aditional numbers and words\n",
    "  if remove_numbers:\n",
    "    words = [word for word in words if not word.isdigit()]\n",
    "\n",
    "\n",
    "\n",
    "  # step 4 : Delet the stop words from  words(list)\n",
    "  if remove_stop_words:\n",
    "    words= [word for word in words if word not in stopword_lst]\n",
    "\n",
    "\n",
    "\n",
    "  # Step 5: delete the additionala (.?!,)\n",
    "  if panctuation:\n",
    "    words= [word for word in words if word not in panctuation]  \n",
    "\n",
    "\n",
    "\n",
    "    \n",
    "  #step 6: find the root of words\n",
    "  if Apply_lemmatizer:\n",
    "    words= [lemmatizer.lemmatize(word, pos= 'v') for word in words]\n",
    "\n",
    "\n",
    "  #ُStep 7: replace the '\\u200c'  \n",
    "  filtered= [word.replace('\\u200c', '')for word in words]\n",
    "\n",
    "  return filtered\n",
    "\n",
    "\n",
    "\n",
    "\n",
    "#  Kodun ne yaptığını görmek için 😊\n",
    "\n",
    "if __name__ == \"__main__\":\n",
    "    x= random.randint(1, 6000)\n",
    "    sample_text = df3['clean_text'][x]\n",
    "    processed_text = preprocessing(\n",
    "        sample_text)\n",
    "    print(\"Original Text:\", sample_text)\n",
    "    print(\"Processed Text:\", processed_text)"
   ]
  },
  {
   "cell_type": "code",
   "execution_count": 13,
   "metadata": {},
   "outputs": [],
   "source": [
    "# import pandas as pd\n",
    "# from tqdm import tqdm\n",
    "# import os\n",
    "# from google.colab import files\n",
    "\n",
    "# # مسیر ذخیره‌سازی موقت\n",
    "# checkpoint_file = \"checkpoint.csv\"\n",
    "\n",
    "# # اگر فایل موقت وجود دارد، داده‌ها را از آن بارگیری کنید\n",
    "# if os.path.exists(checkpoint_file):\n",
    "#     df3 = pd.read_csv(checkpoint_file)\n",
    "# else:\n",
    "#     # اگر فایل موقت وجود ندارد، از ابتدا شروع کنید\n",
    "#     df3[\"clean_text2\"] = pd.NA  # ستون جدید برای متن‌های پردازش‌شده\n",
    "\n",
    "# # پردازش داده‌ها با ذخیره‌سازی موقت\n",
    "# for i, row in tqdm(df3.iterrows(), total=len(df3)):\n",
    "#     if pd.isna(row[\"clean_text2\"]):  # اگر متن پردازش نشده است\n",
    "#         df3.at[i, \"clean_text2\"] = preprocessing(row[\"clean_text\"])  # پردازش متن\n",
    "#         # پس از هر ۱۰۰ رکورد، داده‌ها را ذخیره کنید\n",
    "#         if i % 100 == 0:\n",
    "#             df3.to_csv(checkpoint_file, index=False)\n",
    "\n",
    "#         if i % 1000 == 0 and i != 0:\n",
    "#             df3.to_csv(checkpoint_file, index=False)\n",
    "#             files.download(checkpoint_file)    \n",
    "\n",
    "# # ذخیره نهایی پس از اتمام پردازش\n",
    "# df3.to_csv(checkpoint_file, index=False)\n",
    "# print(\"پردازش کامل شد و داده‌ها ذخیره شدند.\")"
   ]
  },
  {
   "cell_type": "code",
   "execution_count": 14,
   "metadata": {},
   "outputs": [],
   "source": [
    "# df3[\"clean_text\"] = df3[\"clean_text\"].apply(preprocessing)\n"
   ]
  },
  {
   "cell_type": "code",
   "execution_count": 15,
   "metadata": {},
   "outputs": [
    {
     "data": {
      "text/html": [
       "<div>\n",
       "<style scoped>\n",
       "    .dataframe tbody tr th:only-of-type {\n",
       "        vertical-align: middle;\n",
       "    }\n",
       "\n",
       "    .dataframe tbody tr th {\n",
       "        vertical-align: top;\n",
       "    }\n",
       "\n",
       "    .dataframe thead th {\n",
       "        text-align: right;\n",
       "    }\n",
       "</style>\n",
       "<table border=\"1\" class=\"dataframe\">\n",
       "  <thead>\n",
       "    <tr style=\"text-align: right;\">\n",
       "      <th></th>\n",
       "      <th>tweet</th>\n",
       "      <th>emotion</th>\n",
       "      <th>clean_text</th>\n",
       "      <th>clean_text2</th>\n",
       "    </tr>\n",
       "  </thead>\n",
       "  <tbody>\n",
       "    <tr>\n",
       "      <th>0</th>\n",
       "      <td>از صدای پرنده دم دمای صبح متنفرم متنفرم متنفرم</td>\n",
       "      <td>3</td>\n",
       "      <td>از صدای پرنده دم دمای صبح متنفرم متنفرم متنفرم</td>\n",
       "      <td>['صدای', 'پرنده', 'دم', 'دما', 'صبح', 'متنفر',...</td>\n",
       "    </tr>\n",
       "    <tr>\n",
       "      <th>1</th>\n",
       "      <td>\"کیفیتش خیلی خوبه با شک خریدم ولی واقعا راضیم...</td>\n",
       "      <td>5</td>\n",
       "      <td>کیفیتش خیلی خوبه با شک خریدم ولی واقعا راضیم ب...</td>\n",
       "      <td>['کیفیت', 'خوبه', 'شک', 'خرید', 'واقعا', 'راض'...</td>\n",
       "    </tr>\n",
       "    <tr>\n",
       "      <th>2</th>\n",
       "      <td>چون همش با دوربین ثبت شده ، ایا میشه اعتراض زد...</td>\n",
       "      <td>4</td>\n",
       "      <td>چون همش با دوربین ثبت شده ایا میشه اعتراض زد و...</td>\n",
       "      <td>['همش', 'دوربین', 'ثبتشده', 'ایا', 'میشه', 'اع...</td>\n",
       "    </tr>\n",
       "    <tr>\n",
       "      <th>3</th>\n",
       "      <td>اين وضع ب طرز خنده داري گريه داره ...</td>\n",
       "      <td>5</td>\n",
       "      <td>اين وضع ب طرز خنده داري گريه داره</td>\n",
       "      <td>['وضع', 'ب', 'طرز', 'خنده', 'دار', 'گریه', 'دا...</td>\n",
       "    </tr>\n",
       "    <tr>\n",
       "      <th>4</th>\n",
       "      <td>خب من رسما از یک نفر متنفرم،چون از گربه بدش می...</td>\n",
       "      <td>3</td>\n",
       "      <td>خب من رسما از یک نفر متنفرمچون از گربه بدش میا...</td>\n",
       "      <td>['خب', 'رسما', 'نفر', 'متنفرمچون', 'گربه', 'بد...</td>\n",
       "    </tr>\n",
       "    <tr>\n",
       "      <th>...</th>\n",
       "      <td>...</td>\n",
       "      <td>...</td>\n",
       "      <td>...</td>\n",
       "      <td>...</td>\n",
       "    </tr>\n",
       "    <tr>\n",
       "      <th>6061</th>\n",
       "      <td>مرحوم پیش بینی آبکی زیاد میکرد     مرحوم عجب آ...</td>\n",
       "      <td>6</td>\n",
       "      <td>مرحوم پیش بینی آبکی زیاد میکرد مرحوم عجب آینده...</td>\n",
       "      <td>['مرحوم', 'پیشبینی', 'آبکی', 'مرحوم', 'عجب', '...</td>\n",
       "    </tr>\n",
       "    <tr>\n",
       "      <th>6062</th>\n",
       "      <td>کلا عین اعتقادات و توئیت زدناتون ... !!   در ق...</td>\n",
       "      <td>0</td>\n",
       "      <td>کلا عین اعتقادات و توئیت زدناتون در قبال رانت ...</td>\n",
       "      <td>['کلا', 'اعتقادات', 'توئیت', 'زدناتون', 'قبال'...</td>\n",
       "    </tr>\n",
       "    <tr>\n",
       "      <th>6063</th>\n",
       "      <td>خب وقتی میگی کسی بیاد مارو بگیره یارو ترس میکن...</td>\n",
       "      <td>1</td>\n",
       "      <td>خب وقتی میگی کسی بیاد مارو بگیره یارو ترس میکن...</td>\n",
       "      <td>['خب', 'میگ', 'بیاد', 'مارو', 'بگیره', 'یارو',...</td>\n",
       "    </tr>\n",
       "    <tr>\n",
       "      <th>6064</th>\n",
       "      <td>همون هارو     مگه آهنگ جدیدای خواننده‌های دهه ...</td>\n",
       "      <td>6</td>\n",
       "      <td>همون هارو مگه آهنگ جدیدای خوانندههای دهه پنجاه...</td>\n",
       "      <td>['همون', 'هارو', 'مگه', 'آهنگ', 'جدیدای', 'خوا...</td>\n",
       "    </tr>\n",
       "    <tr>\n",
       "      <th>6065</th>\n",
       "      <td>نیم دگیرش چطور حل نیشد</td>\n",
       "      <td>4</td>\n",
       "      <td>نیم دگیرش چطور حل نیشد</td>\n",
       "      <td>['نیم', 'دگیرش', 'چطور', 'نیشد']</td>\n",
       "    </tr>\n",
       "  </tbody>\n",
       "</table>\n",
       "<p>6066 rows × 4 columns</p>\n",
       "</div>"
      ],
      "text/plain": [
       "                                                  tweet  emotion  \\\n",
       "0        از صدای پرنده دم دمای صبح متنفرم متنفرم متنفرم        3   \n",
       "1      \"کیفیتش خیلی خوبه با شک خریدم ولی واقعا راضیم...        5   \n",
       "2     چون همش با دوربین ثبت شده ، ایا میشه اعتراض زد...        4   \n",
       "3                 اين وضع ب طرز خنده داري گريه داره ...        5   \n",
       "4     خب من رسما از یک نفر متنفرم،چون از گربه بدش می...        3   \n",
       "...                                                 ...      ...   \n",
       "6061  مرحوم پیش بینی آبکی زیاد میکرد     مرحوم عجب آ...        6   \n",
       "6062  کلا عین اعتقادات و توئیت زدناتون ... !!   در ق...        0   \n",
       "6063  خب وقتی میگی کسی بیاد مارو بگیره یارو ترس میکن...        1   \n",
       "6064  همون هارو     مگه آهنگ جدیدای خواننده‌های دهه ...        6   \n",
       "6065                             نیم دگیرش چطور حل نیشد        4   \n",
       "\n",
       "                                             clean_text  \\\n",
       "0        از صدای پرنده دم دمای صبح متنفرم متنفرم متنفرم   \n",
       "1     کیفیتش خیلی خوبه با شک خریدم ولی واقعا راضیم ب...   \n",
       "2     چون همش با دوربین ثبت شده ایا میشه اعتراض زد و...   \n",
       "3                     اين وضع ب طرز خنده داري گريه داره   \n",
       "4     خب من رسما از یک نفر متنفرمچون از گربه بدش میا...   \n",
       "...                                                 ...   \n",
       "6061  مرحوم پیش بینی آبکی زیاد میکرد مرحوم عجب آینده...   \n",
       "6062  کلا عین اعتقادات و توئیت زدناتون در قبال رانت ...   \n",
       "6063  خب وقتی میگی کسی بیاد مارو بگیره یارو ترس میکن...   \n",
       "6064  همون هارو مگه آهنگ جدیدای خوانندههای دهه پنجاه...   \n",
       "6065                             نیم دگیرش چطور حل نیشد   \n",
       "\n",
       "                                            clean_text2  \n",
       "0     ['صدای', 'پرنده', 'دم', 'دما', 'صبح', 'متنفر',...  \n",
       "1     ['کیفیت', 'خوبه', 'شک', 'خرید', 'واقعا', 'راض'...  \n",
       "2     ['همش', 'دوربین', 'ثبتشده', 'ایا', 'میشه', 'اع...  \n",
       "3     ['وضع', 'ب', 'طرز', 'خنده', 'دار', 'گریه', 'دا...  \n",
       "4     ['خب', 'رسما', 'نفر', 'متنفرمچون', 'گربه', 'بد...  \n",
       "...                                                 ...  \n",
       "6061  ['مرحوم', 'پیشبینی', 'آبکی', 'مرحوم', 'عجب', '...  \n",
       "6062  ['کلا', 'اعتقادات', 'توئیت', 'زدناتون', 'قبال'...  \n",
       "6063  ['خب', 'میگ', 'بیاد', 'مارو', 'بگیره', 'یارو',...  \n",
       "6064  ['همون', 'هارو', 'مگه', 'آهنگ', 'جدیدای', 'خوا...  \n",
       "6065                   ['نیم', 'دگیرش', 'چطور', 'نیشد']  \n",
       "\n",
       "[6066 rows x 4 columns]"
      ]
     },
     "execution_count": 15,
     "metadata": {},
     "output_type": "execute_result"
    }
   ],
   "source": [
    "df3= pd.read_csv('./checkpoint.csv')\n",
    "df3"
   ]
  },
  {
   "cell_type": "code",
   "execution_count": 16,
   "metadata": {},
   "outputs": [],
   "source": [
    "# tandil be matn kardan token ha\n",
    "import ast\n",
    "df3['clean_text2'] = df3['clean_text2'].apply(lambda x: ' '.join(ast.literal_eval(x)) if x.startswith('[') else str(x))\n"
   ]
  },
  {
   "cell_type": "code",
   "execution_count": 17,
   "metadata": {},
   "outputs": [
    {
     "data": {
      "text/html": [
       "<div>\n",
       "<style scoped>\n",
       "    .dataframe tbody tr th:only-of-type {\n",
       "        vertical-align: middle;\n",
       "    }\n",
       "\n",
       "    .dataframe tbody tr th {\n",
       "        vertical-align: top;\n",
       "    }\n",
       "\n",
       "    .dataframe thead th {\n",
       "        text-align: right;\n",
       "    }\n",
       "</style>\n",
       "<table border=\"1\" class=\"dataframe\">\n",
       "  <thead>\n",
       "    <tr style=\"text-align: right;\">\n",
       "      <th></th>\n",
       "      <th>tweet</th>\n",
       "      <th>emotion</th>\n",
       "      <th>clean_text</th>\n",
       "      <th>clean_text2</th>\n",
       "    </tr>\n",
       "  </thead>\n",
       "  <tbody>\n",
       "    <tr>\n",
       "      <th>0</th>\n",
       "      <td>از صدای پرنده دم دمای صبح متنفرم متنفرم متنفرم</td>\n",
       "      <td>3</td>\n",
       "      <td>از صدای پرنده دم دمای صبح متنفرم متنفرم متنفرم</td>\n",
       "      <td>صدای پرنده دم دما صبح متنفر متنفر متنفر</td>\n",
       "    </tr>\n",
       "    <tr>\n",
       "      <th>1</th>\n",
       "      <td>\"کیفیتش خیلی خوبه با شک خریدم ولی واقعا راضیم...</td>\n",
       "      <td>5</td>\n",
       "      <td>کیفیتش خیلی خوبه با شک خریدم ولی واقعا راضیم ب...</td>\n",
       "      <td>کیفیت خوبه شک خرید واقعا راض ماه استفادهمتأسفا...</td>\n",
       "    </tr>\n",
       "    <tr>\n",
       "      <th>2</th>\n",
       "      <td>چون همش با دوربین ثبت شده ، ایا میشه اعتراض زد...</td>\n",
       "      <td>4</td>\n",
       "      <td>چون همش با دوربین ثبت شده ایا میشه اعتراض زد و...</td>\n",
       "      <td>همش دوربین ثبتشده ایا میشه اعتراض زد اصن تاثیر...</td>\n",
       "    </tr>\n",
       "    <tr>\n",
       "      <th>3</th>\n",
       "      <td>اين وضع ب طرز خنده داري گريه داره ...</td>\n",
       "      <td>5</td>\n",
       "      <td>اين وضع ب طرز خنده داري گريه داره</td>\n",
       "      <td>وضع ب طرز خنده دار گریه داره</td>\n",
       "    </tr>\n",
       "    <tr>\n",
       "      <th>4</th>\n",
       "      <td>خب من رسما از یک نفر متنفرم،چون از گربه بدش می...</td>\n",
       "      <td>3</td>\n",
       "      <td>خب من رسما از یک نفر متنفرمچون از گربه بدش میا...</td>\n",
       "      <td>خب رسما نفر متنفرمچون گربه بد میاد صبح مخ رفتن...</td>\n",
       "    </tr>\n",
       "    <tr>\n",
       "      <th>...</th>\n",
       "      <td>...</td>\n",
       "      <td>...</td>\n",
       "      <td>...</td>\n",
       "      <td>...</td>\n",
       "    </tr>\n",
       "    <tr>\n",
       "      <th>6061</th>\n",
       "      <td>مرحوم پیش بینی آبکی زیاد میکرد     مرحوم عجب آ...</td>\n",
       "      <td>6</td>\n",
       "      <td>مرحوم پیش بینی آبکی زیاد میکرد مرحوم عجب آینده...</td>\n",
       "      <td>مرحوم پیشبینی آبکی مرحوم عجب آیندهنگری پیشبینی</td>\n",
       "    </tr>\n",
       "    <tr>\n",
       "      <th>6062</th>\n",
       "      <td>کلا عین اعتقادات و توئیت زدناتون ... !!   در ق...</td>\n",
       "      <td>0</td>\n",
       "      <td>کلا عین اعتقادات و توئیت زدناتون در قبال رانت ...</td>\n",
       "      <td>کلا اعتقادات توئیت زدناتون قبال رانت نون مفت س...</td>\n",
       "    </tr>\n",
       "    <tr>\n",
       "      <th>6063</th>\n",
       "      <td>خب وقتی میگی کسی بیاد مارو بگیره یارو ترس میکن...</td>\n",
       "      <td>1</td>\n",
       "      <td>خب وقتی میگی کسی بیاد مارو بگیره یارو ترس میکن...</td>\n",
       "      <td>خب میگ بیاد مارو بگیره یارو ترس میکنه یکم دوست...</td>\n",
       "    </tr>\n",
       "    <tr>\n",
       "      <th>6064</th>\n",
       "      <td>همون هارو     مگه آهنگ جدیدای خواننده‌های دهه ...</td>\n",
       "      <td>6</td>\n",
       "      <td>همون هارو مگه آهنگ جدیدای خوانندههای دهه پنجاه...</td>\n",
       "      <td>همون هارو مگه آهنگ جدیدای خواننده پنجاه گوش میدید</td>\n",
       "    </tr>\n",
       "    <tr>\n",
       "      <th>6065</th>\n",
       "      <td>نیم دگیرش چطور حل نیشد</td>\n",
       "      <td>4</td>\n",
       "      <td>نیم دگیرش چطور حل نیشد</td>\n",
       "      <td>نیم دگیرش چطور نیشد</td>\n",
       "    </tr>\n",
       "  </tbody>\n",
       "</table>\n",
       "<p>6066 rows × 4 columns</p>\n",
       "</div>"
      ],
      "text/plain": [
       "                                                  tweet  emotion  \\\n",
       "0        از صدای پرنده دم دمای صبح متنفرم متنفرم متنفرم        3   \n",
       "1      \"کیفیتش خیلی خوبه با شک خریدم ولی واقعا راضیم...        5   \n",
       "2     چون همش با دوربین ثبت شده ، ایا میشه اعتراض زد...        4   \n",
       "3                 اين وضع ب طرز خنده داري گريه داره ...        5   \n",
       "4     خب من رسما از یک نفر متنفرم،چون از گربه بدش می...        3   \n",
       "...                                                 ...      ...   \n",
       "6061  مرحوم پیش بینی آبکی زیاد میکرد     مرحوم عجب آ...        6   \n",
       "6062  کلا عین اعتقادات و توئیت زدناتون ... !!   در ق...        0   \n",
       "6063  خب وقتی میگی کسی بیاد مارو بگیره یارو ترس میکن...        1   \n",
       "6064  همون هارو     مگه آهنگ جدیدای خواننده‌های دهه ...        6   \n",
       "6065                             نیم دگیرش چطور حل نیشد        4   \n",
       "\n",
       "                                             clean_text  \\\n",
       "0        از صدای پرنده دم دمای صبح متنفرم متنفرم متنفرم   \n",
       "1     کیفیتش خیلی خوبه با شک خریدم ولی واقعا راضیم ب...   \n",
       "2     چون همش با دوربین ثبت شده ایا میشه اعتراض زد و...   \n",
       "3                     اين وضع ب طرز خنده داري گريه داره   \n",
       "4     خب من رسما از یک نفر متنفرمچون از گربه بدش میا...   \n",
       "...                                                 ...   \n",
       "6061  مرحوم پیش بینی آبکی زیاد میکرد مرحوم عجب آینده...   \n",
       "6062  کلا عین اعتقادات و توئیت زدناتون در قبال رانت ...   \n",
       "6063  خب وقتی میگی کسی بیاد مارو بگیره یارو ترس میکن...   \n",
       "6064  همون هارو مگه آهنگ جدیدای خوانندههای دهه پنجاه...   \n",
       "6065                             نیم دگیرش چطور حل نیشد   \n",
       "\n",
       "                                            clean_text2  \n",
       "0               صدای پرنده دم دما صبح متنفر متنفر متنفر  \n",
       "1     کیفیت خوبه شک خرید واقعا راض ماه استفادهمتأسفا...  \n",
       "2     همش دوربین ثبتشده ایا میشه اعتراض زد اصن تاثیر...  \n",
       "3                          وضع ب طرز خنده دار گریه داره  \n",
       "4     خب رسما نفر متنفرمچون گربه بد میاد صبح مخ رفتن...  \n",
       "...                                                 ...  \n",
       "6061     مرحوم پیشبینی آبکی مرحوم عجب آیندهنگری پیشبینی  \n",
       "6062  کلا اعتقادات توئیت زدناتون قبال رانت نون مفت س...  \n",
       "6063  خب میگ بیاد مارو بگیره یارو ترس میکنه یکم دوست...  \n",
       "6064  همون هارو مگه آهنگ جدیدای خواننده پنجاه گوش میدید  \n",
       "6065                                نیم دگیرش چطور نیشد  \n",
       "\n",
       "[6066 rows x 4 columns]"
      ]
     },
     "execution_count": 17,
     "metadata": {},
     "output_type": "execute_result"
    }
   ],
   "source": [
    "df3"
   ]
  },
  {
   "cell_type": "code",
   "execution_count": 18,
   "metadata": {},
   "outputs": [
    {
     "name": "stdout",
     "output_type": "stream",
     "text": [
      "(6066, 18328)\n"
     ]
    }
   ],
   "source": [
    "from sklearn.feature_extraction.text import TfidfVectorizer\n",
    "from sklearn.model_selection import train_test_split\n",
    "\n",
    "tfidf = TfidfVectorizer()\n",
    "X_Tfidf= tfidf.fit_transform(df3['clean_text2'])\n",
    "print(X_Tfidf.shape)\n",
    "\n",
    "# using Hold_out validation\n",
    "X_train_val, X_test, y_train_val, y_test= train_test_split(X_Tfidf,df3['emotion'], test_size=0.2, random_state=42)\n",
    "\n",
    "X_train, X_val, y_train, y_val= train_test_split(X_train_val, y_train_val, test_size=0.2, random_state=42)"
   ]
  },
  {
   "cell_type": "code",
   "execution_count": 19,
   "metadata": {},
   "outputs": [
    {
     "name": "stdout",
     "output_type": "stream",
     "text": [
      "Train Accuracy: 0.8412780211285751\n",
      "Logistic Regression Accuracy: 0.5128733264675592\n",
      "              precision    recall  f1-score   support\n",
      "\n",
      "           0       0.69      0.42      0.53       139\n",
      "           1       0.74      0.62      0.67       118\n",
      "           2       0.80      0.21      0.33        95\n",
      "           3       0.90      0.62      0.74        85\n",
      "           4       0.38      0.85      0.52       252\n",
      "           5       0.51      0.19      0.28       163\n",
      "           6       0.66      0.40      0.50       119\n",
      "\n",
      "    accuracy                           0.51       971\n",
      "   macro avg       0.67      0.47      0.51       971\n",
      "weighted avg       0.61      0.51      0.50       971\n",
      "\n"
     ]
    }
   ],
   "source": [
    "# test models\n",
    "from sklearn.linear_model import LogisticRegression\n",
    "from sklearn.metrics import classification_report, accuracy_score\n",
    "\n",
    "\n",
    "lr_model= LogisticRegression(max_iter=1000)\n",
    "lr_model.fit(X_train, y_train)\n",
    "\n",
    "y_train_pred = lr_model.predict(X_train)\n",
    "train_acc = accuracy_score(y_train, y_train_pred)\n",
    "print(\"Train Accuracy:\", train_acc)\n",
    "\n",
    "\n",
    "y_val_pred= lr_model.predict(X_val)\n",
    "\n",
    "print(\"Logistic Regression Accuracy:\", accuracy_score(y_val, y_val_pred))\n",
    "print(classification_report(y_val, y_val_pred))"
   ]
  },
  {
   "cell_type": "code",
   "execution_count": null,
   "metadata": {},
   "outputs": [
    {
     "name": "stdout",
     "output_type": "stream",
     "text": [
      "Train Accuracy: 0.9976810100489565\n",
      "Random Forest Accuracy: 0.5417095777548918\n",
      "              precision    recall  f1-score   support\n",
      "\n",
      "           0       0.67      0.42      0.51       139\n",
      "           1       0.71      0.74      0.72       118\n",
      "           2       0.60      0.39      0.47        95\n",
      "           3       0.86      0.78      0.81        85\n",
      "           4       0.44      0.69      0.54       252\n",
      "           5       0.56      0.18      0.27       163\n",
      "           6       0.43      0.62      0.51       119\n",
      "\n",
      "    accuracy                           0.54       971\n",
      "   macro avg       0.61      0.54      0.55       971\n",
      "weighted avg       0.58      0.54      0.53       971\n",
      "\n"
     ]
    }
   ],
   "source": [
    "from sklearn.ensemble import RandomForestClassifier\n",
    "\n",
    "rf_model= RandomForestClassifier(random_state=42)\n",
    "rf_model.fit(X_train, y_train)\n",
    "\n",
    "y_train_pred= rf_model.predict(X_train)\n",
    "train_acc= accuracy_score(y_train, y_train_pred)\n",
    "print(\"Train Accuracy:\", train_acc)\n",
    "\n",
    "\n",
    "y_val_pred= rf_model.predict(X_val)\n",
    "\n",
    "print(\"Random Forest Accuracy:\", accuracy_score(y_val, y_val_pred))\n",
    "print(classification_report(y_val, y_val_pred))"
   ]
  },
  {
   "cell_type": "code",
   "execution_count": 21,
   "metadata": {},
   "outputs": [
    {
     "name": "stdout",
     "output_type": "stream",
     "text": [
      "Train Accuracy: 0.9394485957227519\n",
      "SVM Accuracy: 0.533470648815654\n",
      "              precision    recall  f1-score   support\n",
      "\n",
      "           0       0.65      0.43      0.52       139\n",
      "           1       0.74      0.68      0.71       118\n",
      "           2       0.59      0.32      0.41        95\n",
      "           3       0.81      0.73      0.77        85\n",
      "           4       0.40      0.79      0.53       252\n",
      "           5       0.49      0.21      0.29       163\n",
      "           6       0.66      0.45      0.54       119\n",
      "\n",
      "    accuracy                           0.53       971\n",
      "   macro avg       0.62      0.51      0.54       971\n",
      "weighted avg       0.58      0.53      0.52       971\n",
      "\n"
     ]
    }
   ],
   "source": [
    "from sklearn.svm import SVC\n",
    "\n",
    "svm_model= SVC(kernel='linear')\n",
    "svm_model.fit(X_train,y_train)\n",
    "\n",
    "y_train_pred= svm_model.predict(X_train)\n",
    "train_acc= accuracy_score(y_train, y_train_pred)\n",
    "print(\"Train Accuracy:\", train_acc)\n",
    "\n",
    "y_val_pred= svm_model.predict(X_val)\n",
    "\n",
    "print(\"SVM Accuracy:\", accuracy_score(y_val, y_val_pred))\n",
    "print(classification_report(y_val, y_val_pred))"
   ]
  },
  {
   "cell_type": "code",
   "execution_count": 22,
   "metadata": {},
   "outputs": [
    {
     "name": "stdout",
     "output_type": "stream",
     "text": [
      "Train Accuracy: 0.6276732800824529\n",
      "Naive Bayes Accuracy: 0.3728115345005149\n",
      "              precision    recall  f1-score   support\n",
      "\n",
      "           0       0.64      0.25      0.36       139\n",
      "           1       0.93      0.35      0.51       118\n",
      "           2       1.00      0.07      0.14        95\n",
      "           3       1.00      0.09      0.17        85\n",
      "           4       0.30      0.98      0.46       252\n",
      "           5       0.56      0.06      0.11       163\n",
      "           6       0.83      0.13      0.22       119\n",
      "\n",
      "    accuracy                           0.37       971\n",
      "   macro avg       0.75      0.28      0.28       971\n",
      "weighted avg       0.66      0.37      0.31       971\n",
      "\n"
     ]
    }
   ],
   "source": [
    "from sklearn.naive_bayes import MultinomialNB\n",
    "\n",
    "# مدل Naive Bayes\n",
    "nb_model = MultinomialNB()\n",
    "nb_model.fit(X_train, y_train)\n",
    "\n",
    "y_train_pred= nb_model.predict(X_train)\n",
    "train_acc= accuracy_score(y_train, y_train_pred)\n",
    "print(\"Train Accuracy:\", train_acc)\n",
    "\n",
    "# پیش‌بینی بر روی داده‌های اعتبارسنجی\n",
    "y_val_pred = nb_model.predict(X_val)\n",
    "\n",
    "# ارزیابی مدل\n",
    "print(\"Naive Bayes Accuracy:\", accuracy_score(y_val, y_val_pred))\n",
    "print(classification_report(y_val, y_val_pred))\n"
   ]
  },
  {
   "cell_type": "code",
   "execution_count": 23,
   "metadata": {},
   "outputs": [
    {
     "name": "stdout",
     "output_type": "stream",
     "text": [
      "Train Accuracy: 0.8497809842824015\n",
      "XGBoost Accuracy: 0.5736354273944387\n",
      "              precision    recall  f1-score   support\n",
      "\n",
      "           0       0.63      0.49      0.55       139\n",
      "           1       0.73      0.77      0.75       118\n",
      "           2       0.66      0.35      0.46        95\n",
      "           3       0.83      0.79      0.81        85\n",
      "           4       0.46      0.73      0.57       252\n",
      "           5       0.50      0.35      0.41       163\n",
      "           6       0.59      0.47      0.52       119\n",
      "\n",
      "    accuracy                           0.57       971\n",
      "   macro avg       0.63      0.56      0.58       971\n",
      "weighted avg       0.59      0.57      0.57       971\n",
      "\n"
     ]
    }
   ],
   "source": [
    "from xgboost import XGBClassifier\n",
    "\n",
    "# مدل XGBoost\n",
    "xgb_model = XGBClassifier(random_state=42)\n",
    "xgb_model.fit(X_train, y_train)\n",
    "\n",
    "y_train_pred= xgb_model.predict(X_train)\n",
    "train_acc= accuracy_score(y_train, y_train_pred)\n",
    "print(\"Train Accuracy:\", train_acc)\n",
    "\n",
    "# پیش‌بینی بر روی داده‌های اعتبارسنجی\n",
    "y_val_pred = xgb_model.predict(X_val)\n",
    "\n",
    "# ارزیابی مدل\n",
    "print(\"XGBoost Accuracy:\", accuracy_score(y_val, y_val_pred))\n",
    "print(classification_report(y_val, y_val_pred))\n"
   ]
  },
  {
   "cell_type": "code",
   "execution_count": 24,
   "metadata": {},
   "outputs": [
    {
     "data": {
      "image/png": "[encoded data removed]",
      "text/plain": [
       "<Figure size 800x600 with 2 Axes>"
      ]
     },
     "metadata": {},
     "output_type": "display_data"
    }
   ],
   "source": [
    "from sklearn.metrics import confusion_matrix\n",
    "import seaborn as sns\n",
    "import matplotlib.pyplot as plt\n",
    "\n",
    "# نمایش ماتریس سردرگمی (Confusion Matrix)\n",
    "conf_matrix = confusion_matrix(y_val, y_val_pred)\n",
    "\n",
    "plt.figure(figsize=(8,6))\n",
    "sns.heatmap(conf_matrix, annot=True, fmt='d', cmap='Blues', xticklabels=['Class 0', 'Class 1', 'Class 2', 'Class 3', 'Class 4', 'Class 5', 'Class 6'], yticklabels=['Class 0', 'Class 1', 'Class 2', 'Class 3', 'Class 4', 'Class 5', 'Class 6'])\n",
    "plt.xlabel('Predicted')\n",
    "plt.ylabel('True')\n",
    "plt.title('Confusion Matrix')\n",
    "plt.show()\n"
   ]
  },
  {
   "cell_type": "code",
   "execution_count": 25,
   "metadata": {},
   "outputs": [
    {
     "name": "stdout",
     "output_type": "stream",
     "text": [
      "Test Accuracy: 0.5757825370675453\n",
      "              precision    recall  f1-score   support\n",
      "\n",
      "           0       0.66      0.53      0.59       171\n",
      "           1       0.70      0.79      0.74       126\n",
      "           2       0.61      0.42      0.50       120\n",
      "           3       0.88      0.73      0.80       108\n",
      "           4       0.48      0.75      0.58       359\n",
      "           5       0.51      0.25      0.34       196\n",
      "           6       0.60      0.48      0.53       134\n",
      "\n",
      "    accuracy                           0.58      1214\n",
      "   macro avg       0.63      0.56      0.58      1214\n",
      "weighted avg       0.59      0.58      0.56      1214\n",
      "\n"
     ]
    }
   ],
   "source": [
    "# پیش‌بینی نهایی روی داده‌های تست\n",
    "y_test_pred = xgb_model.predict(X_test)\n",
    "\n",
    "# ارزیابی نهایی مدل\n",
    "print(\"Test Accuracy:\", accuracy_score(y_test, y_test_pred))\n",
    "print(classification_report(y_test, y_test_pred))\n"
   ]
  },
  {
   "cell_type": "code",
   "execution_count": 26,
   "metadata": {},
   "outputs": [
    {
     "name": "stdout",
     "output_type": "stream",
     "text": [
      "[4]\n"
     ]
    }
   ],
   "source": [
    "# فرض می‌کنیم که 'tfidf' مدل TF-IDF از قبل فیت شده و 'xgb_model' مدل XGBoost است\n",
    "\n",
    "# ابتدا متن جدید رو به وکتور ویژگی تبدیل کن\n",
    "input_text =[\"متنفرم\"]  # باید داخل لیست قرار بدی\n",
    "input_vector = tfidf.transform(input_text)\n",
    "\n",
    "# پیش‌بینی مدل XGBoost با استفاده از وکتور ویژگی\n",
    "f = xgb_model.predict(input_vector)\n",
    "\n",
    "print(f)\n"
   ]
  },
  {
   "cell_type": "code",
   "execution_count": 27,
   "metadata": {},
   "outputs": [],
   "source": [
    "import torch\n",
    "from transformers import AutoTokenizer, AutoModel\n",
    "from hazm import Normalizer\n",
    "import numpy as np\n",
    "\n",
    "# لود مدل ParsBERT\n",
    "model_name = \"HooshvareLab/bert-base-parsbert-uncased\"\n",
    "tokenizer = AutoTokenizer.from_pretrained(model_name)\n",
    "model = AutoModel.from_pretrained(model_name)\n",
    "\n",
    "# نرمالایزر برای متن فارسی\n",
    "normalizer = Normalizer()\n",
    "\n",
    "# تبدیل متن‌ها به بردارهای ParsBERT\n",
    "def get_embeddings(text):\n",
    "    normalized_text = normalizer.normalize(text)\n",
    "    inputs = tokenizer(normalized_text, return_tensors=\"pt\", padding=True, truncation=True, max_length=512)\n",
    "    \n",
    "    with torch.no_grad():\n",
    "        outputs = model(**inputs)\n",
    "    \n",
    "    # گرفتن embedding از لایه [CLS]\n",
    "    embeddings = outputs.last_hidden_state[:, 0, :].numpy()\n",
    "    return embeddings\n",
    "\n",
    "# تبدیل تمام متن‌های دیتاست به بردار\n",
    "X_bert = np.vstack([get_embeddings(text) for text in df3['tweet']])\n"
   ]
  },
  {
   "cell_type": "code",
   "execution_count": 44,
   "metadata": {},
   "outputs": [
    {
     "data": {
      "text/plain": [
       "(6066, 768)"
      ]
     },
     "execution_count": 44,
     "metadata": {},
     "output_type": "execute_result"
    }
   ],
   "source": [
    "X_bert.shape"
   ]
  },
  {
   "cell_type": "code",
   "execution_count": 35,
   "metadata": {},
   "outputs": [],
   "source": [
    "# تقسیم داده‌ها به 80% train_val و 20% test\n",
    "X_train_val, X_test, y_train_val, y_test = train_test_split(X_bert, df3['emotion'], test_size=0.2, random_state=42)\n",
    "\n",
    "# تقسیم داده‌های train_val به 80% train و 20% validation\n",
    "X_train, X_val, y_train, y_val = train_test_split(X_train_val, y_train_val, test_size=0.2, random_state=42)\n",
    "\n"
   ]
  },
  {
   "cell_type": "code",
   "execution_count": 36,
   "metadata": {},
   "outputs": [
    {
     "name": "stdout",
     "output_type": "stream",
     "text": [
      "Train Accuracy: 0.9144550373615048\n",
      "Logistic Regression Accuracy: 0.5087538619979403\n",
      "              precision    recall  f1-score   support\n",
      "\n",
      "           0       0.52      0.58      0.55       139\n",
      "           1       0.60      0.63      0.61       118\n",
      "           2       0.44      0.44      0.44        95\n",
      "           3       0.55      0.60      0.58        85\n",
      "           4       0.50      0.51      0.50       252\n",
      "           5       0.47      0.38      0.42       163\n",
      "           6       0.48      0.48      0.48       119\n",
      "\n",
      "    accuracy                           0.51       971\n",
      "   macro avg       0.51      0.52      0.51       971\n",
      "weighted avg       0.51      0.51      0.51       971\n",
      "\n"
     ]
    },
    {
     "name": "stderr",
     "output_type": "stream",
     "text": [
      "c:\\ProgramData\\anaconda3\\Lib\\site-packages\\sklearn\\linear_model\\_logistic.py:458: ConvergenceWarning: lbfgs failed to converge (status=1):\n",
      "STOP: TOTAL NO. of ITERATIONS REACHED LIMIT.\n",
      "\n",
      "Increase the number of iterations (max_iter) or scale the data as shown in:\n",
      "    https://scikit-learn.org/stable/modules/preprocessing.html\n",
      "Please also refer to the documentation for alternative solver options:\n",
      "    https://scikit-learn.org/stable/modules/linear_model.html#logistic-regression\n",
      "  n_iter_i = _check_optimize_result(\n"
     ]
    }
   ],
   "source": [
    "# test models\n",
    "from sklearn.linear_model import LogisticRegression\n",
    "from sklearn.metrics import classification_report, accuracy_score\n",
    "\n",
    "\n",
    "lr_model= LogisticRegression(max_iter=1000)\n",
    "lr_model.fit(X_train, y_train)\n",
    "\n",
    "y_train_pred = lr_model.predict(X_train)\n",
    "train_acc = accuracy_score(y_train, y_train_pred)\n",
    "print(\"Train Accuracy:\", train_acc)\n",
    "\n",
    "\n",
    "y_val_pred= lr_model.predict(X_val)\n",
    "\n",
    "print(\"Logistic Regression Accuracy:\", accuracy_score(y_val, y_val_pred))\n",
    "print(classification_report(y_val, y_val_pred))"
   ]
  },
  {
   "cell_type": "code",
   "execution_count": 37,
   "metadata": {},
   "outputs": [
    {
     "name": "stdout",
     "output_type": "stream",
     "text": [
      "Train Accuracy: 0.999742334449884\n",
      "Random Forest Accuracy: 0.4593202883625129\n",
      "              precision    recall  f1-score   support\n",
      "\n",
      "           0       0.50      0.50      0.50       139\n",
      "           1       0.56      0.47      0.51       118\n",
      "           2       0.62      0.34      0.44        95\n",
      "           3       0.71      0.18      0.28        85\n",
      "           4       0.38      0.81      0.52       252\n",
      "           5       0.58      0.19      0.29       163\n",
      "           6       0.53      0.32      0.40       119\n",
      "\n",
      "    accuracy                           0.46       971\n",
      "   macro avg       0.56      0.40      0.42       971\n",
      "weighted avg       0.52      0.46      0.43       971\n",
      "\n"
     ]
    }
   ],
   "source": [
    "from sklearn.ensemble import RandomForestClassifier\n",
    "\n",
    "rf_model= RandomForestClassifier(random_state=42)\n",
    "rf_model.fit(X_train, y_train)\n",
    "\n",
    "y_train_pred= rf_model.predict(X_train)\n",
    "train_acc= accuracy_score(y_train, y_train_pred)\n",
    "print(\"Train Accuracy:\", train_acc)\n",
    "\n",
    "\n",
    "y_val_pred= rf_model.predict(X_val)\n",
    "\n",
    "print(\"Random Forest Accuracy:\", accuracy_score(y_val, y_val_pred))\n",
    "print(classification_report(y_val, y_val_pred))"
   ]
  },
  {
   "cell_type": "code",
   "execution_count": 38,
   "metadata": {},
   "outputs": [
    {
     "name": "stdout",
     "output_type": "stream",
     "text": [
      "Train Accuracy: 0.9938160267972173\n",
      "SVM Accuracy: 0.486096807415036\n",
      "              precision    recall  f1-score   support\n",
      "\n",
      "           0       0.47      0.60      0.53       139\n",
      "           1       0.53      0.68      0.60       118\n",
      "           2       0.42      0.54      0.47        95\n",
      "           3       0.58      0.58      0.58        85\n",
      "           4       0.51      0.48      0.49       252\n",
      "           5       0.41      0.28      0.33       163\n",
      "           6       0.49      0.34      0.40       119\n",
      "\n",
      "    accuracy                           0.49       971\n",
      "   macro avg       0.49      0.50      0.49       971\n",
      "weighted avg       0.48      0.49      0.48       971\n",
      "\n"
     ]
    }
   ],
   "source": [
    "from sklearn.svm import SVC\n",
    "\n",
    "svm_model= SVC(kernel='linear')\n",
    "svm_model.fit(X_train,y_train)\n",
    "\n",
    "y_train_pred= svm_model.predict(X_train)\n",
    "train_acc= accuracy_score(y_train, y_train_pred)\n",
    "print(\"Train Accuracy:\", train_acc)\n",
    "\n",
    "y_val_pred= svm_model.predict(X_val)\n",
    "\n",
    "print(\"SVM Accuracy:\", accuracy_score(y_val, y_val_pred))\n",
    "print(classification_report(y_val, y_val_pred))"
   ]
  },
  {
   "cell_type": "code",
   "execution_count": 40,
   "metadata": {},
   "outputs": [
    {
     "ename": "ValueError",
     "evalue": "Negative values in data passed to MultinomialNB (input X)",
     "output_type": "error",
     "traceback": [
      "\u001b[1;31m---------------------------------------------------------------------------\u001b[0m",
      "\u001b[1;31mValueError\u001b[0m                                Traceback (most recent call last)",
      "Cell \u001b[1;32mIn[40], line 5\u001b[0m\n\u001b[0;32m      3\u001b[0m \u001b[38;5;66;03m# مدل Naive Bayes\u001b[39;00m\n\u001b[0;32m      4\u001b[0m nb_model \u001b[38;5;241m=\u001b[39m MultinomialNB()\n\u001b[1;32m----> 5\u001b[0m nb_model\u001b[38;5;241m.\u001b[39mfit(X_train, y_train)\n\u001b[0;32m      7\u001b[0m y_train_pred\u001b[38;5;241m=\u001b[39m nb_model\u001b[38;5;241m.\u001b[39mpredict(X_train)\n\u001b[0;32m      8\u001b[0m train_acc\u001b[38;5;241m=\u001b[39m accuracy_score(y_train, y_train_pred)\n",
      "File \u001b[1;32mc:\\ProgramData\\anaconda3\\Lib\\site-packages\\sklearn\\naive_bayes.py:776\u001b[0m, in \u001b[0;36m_BaseDiscreteNB.fit\u001b[1;34m(self, X, y, sample_weight)\u001b[0m\n\u001b[0;32m    774\u001b[0m n_classes \u001b[38;5;241m=\u001b[39m Y\u001b[38;5;241m.\u001b[39mshape[\u001b[38;5;241m1\u001b[39m]\n\u001b[0;32m    775\u001b[0m \u001b[38;5;28mself\u001b[39m\u001b[38;5;241m.\u001b[39m_init_counters(n_classes, n_features)\n\u001b[1;32m--> 776\u001b[0m \u001b[38;5;28mself\u001b[39m\u001b[38;5;241m.\u001b[39m_count(X, Y)\n\u001b[0;32m    777\u001b[0m alpha \u001b[38;5;241m=\u001b[39m \u001b[38;5;28mself\u001b[39m\u001b[38;5;241m.\u001b[39m_check_alpha()\n\u001b[0;32m    778\u001b[0m \u001b[38;5;28mself\u001b[39m\u001b[38;5;241m.\u001b[39m_update_feature_log_prob(alpha)\n",
      "File \u001b[1;32mc:\\ProgramData\\anaconda3\\Lib\\site-packages\\sklearn\\naive_bayes.py:898\u001b[0m, in \u001b[0;36mMultinomialNB._count\u001b[1;34m(self, X, Y)\u001b[0m\n\u001b[0;32m    896\u001b[0m \u001b[38;5;28;01mdef\u001b[39;00m \u001b[38;5;21m_count\u001b[39m(\u001b[38;5;28mself\u001b[39m, X, Y):\n\u001b[0;32m    897\u001b[0m \u001b[38;5;250m    \u001b[39m\u001b[38;5;124;03m\"\"\"Count and smooth feature occurrences.\"\"\"\u001b[39;00m\n\u001b[1;32m--> 898\u001b[0m     check_non_negative(X, \u001b[38;5;124m\"\u001b[39m\u001b[38;5;124mMultinomialNB (input X)\u001b[39m\u001b[38;5;124m\"\u001b[39m)\n\u001b[0;32m    899\u001b[0m     \u001b[38;5;28mself\u001b[39m\u001b[38;5;241m.\u001b[39mfeature_count_ \u001b[38;5;241m+\u001b[39m\u001b[38;5;241m=\u001b[39m safe_sparse_dot(Y\u001b[38;5;241m.\u001b[39mT, X)\n\u001b[0;32m    900\u001b[0m     \u001b[38;5;28mself\u001b[39m\u001b[38;5;241m.\u001b[39mclass_count_ \u001b[38;5;241m+\u001b[39m\u001b[38;5;241m=\u001b[39m Y\u001b[38;5;241m.\u001b[39msum(axis\u001b[38;5;241m=\u001b[39m\u001b[38;5;241m0\u001b[39m)\n",
      "File \u001b[1;32mc:\\ProgramData\\anaconda3\\Lib\\site-packages\\sklearn\\utils\\validation.py:1418\u001b[0m, in \u001b[0;36mcheck_non_negative\u001b[1;34m(X, whom)\u001b[0m\n\u001b[0;32m   1415\u001b[0m     X_min \u001b[38;5;241m=\u001b[39m xp\u001b[38;5;241m.\u001b[39mmin(X)\n\u001b[0;32m   1417\u001b[0m \u001b[38;5;28;01mif\u001b[39;00m X_min \u001b[38;5;241m<\u001b[39m \u001b[38;5;241m0\u001b[39m:\n\u001b[1;32m-> 1418\u001b[0m     \u001b[38;5;28;01mraise\u001b[39;00m \u001b[38;5;167;01mValueError\u001b[39;00m(\u001b[38;5;124m\"\u001b[39m\u001b[38;5;124mNegative values in data passed to \u001b[39m\u001b[38;5;132;01m%s\u001b[39;00m\u001b[38;5;124m\"\u001b[39m \u001b[38;5;241m%\u001b[39m whom)\n",
      "\u001b[1;31mValueError\u001b[0m: Negative values in data passed to MultinomialNB (input X)"
     ]
    }
   ],
   "source": [
    "from sklearn.naive_bayes import MultinomialNB\n",
    "\n",
    "# مدل Naive Bayes\n",
    "nb_model = MultinomialNB()\n",
    "nb_model.fit(X_train, y_train)\n",
    "\n",
    "y_train_pred= nb_model.predict(X_train)\n",
    "train_acc= accuracy_score(y_train, y_train_pred)\n",
    "print(\"Train Accuracy:\", train_acc)\n",
    "\n",
    "# پیش‌بینی بر روی داده‌های اعتبارسنجی\n",
    "y_val_pred = nb_model.predict(X_val)\n",
    "\n",
    "# ارزیابی مدل\n",
    "print(\"Naive Bayes Accuracy:\", accuracy_score(y_val, y_val_pred))\n",
    "print(classification_report(y_val, y_val_pred))"
   ]
  },
  {
   "cell_type": "code",
   "execution_count": 41,
   "metadata": {},
   "outputs": [
    {
     "name": "stdout",
     "output_type": "stream",
     "text": [
      "Train Accuracy: 0.999742334449884\n",
      "XGBoost Accuracy: 0.5427394438722966\n",
      "              precision    recall  f1-score   support\n",
      "\n",
      "           0       0.56      0.57      0.57       139\n",
      "           1       0.59      0.58      0.59       118\n",
      "           2       0.59      0.49      0.54        95\n",
      "           3       0.62      0.39      0.48        85\n",
      "           4       0.49      0.72      0.58       252\n",
      "           5       0.59      0.37      0.45       163\n",
      "           6       0.53      0.49      0.51       119\n",
      "\n",
      "    accuracy                           0.54       971\n",
      "   macro avg       0.57      0.52      0.53       971\n",
      "weighted avg       0.56      0.54      0.54       971\n",
      "\n"
     ]
    }
   ],
   "source": [
    "from xgboost import XGBClassifier\n",
    "\n",
    "# مدل XGBoost\n",
    "xgb_model = XGBClassifier(random_state=42)\n",
    "xgb_model.fit(X_train, y_train)\n",
    "\n",
    "y_train_pred= xgb_model.predict(X_train)\n",
    "train_acc= accuracy_score(y_train, y_train_pred)\n",
    "print(\"Train Accuracy:\", train_acc)\n",
    "\n",
    "# پیش‌بینی بر روی داده‌های اعتبارسنجی\n",
    "y_val_pred = xgb_model.predict(X_val)\n",
    "\n",
    "# ارزیابی مدل\n",
    "print(\"XGBoost Accuracy:\", accuracy_score(y_val, y_val_pred))\n",
    "print(classification_report(y_val, y_val_pred))"
   ]
  },
  {
   "cell_type": "code",
   "execution_count": 28,
   "metadata": {},
   "outputs": [
    {
     "data": {
      "text/plain": [
       "SAD\n",
       "HAPPY    1462\n",
       "OTHER    1263\n",
       "ANGRY    1012\n",
       "SAD       844\n",
       "FEAR      342\n",
       "Name: count, dtype: int64"
      ]
     },
     "execution_count": 28,
     "metadata": {},
     "output_type": "execute_result"
    }
   ],
   "source": [
    "df4 = pd.read_excel('./train_fa2.xlsx')\n",
    "df4['SAD'].value_counts()"
   ]
  },
  {
   "cell_type": "code",
   "execution_count": 29,
   "metadata": {},
   "outputs": [
    {
     "data": {
      "text/html": [
       "<div>\n",
       "<style scoped>\n",
       "    .dataframe tbody tr th:only-of-type {\n",
       "        vertical-align: middle;\n",
       "    }\n",
       "\n",
       "    .dataframe tbody tr th {\n",
       "        vertical-align: top;\n",
       "    }\n",
       "\n",
       "    .dataframe thead th {\n",
       "        text-align: right;\n",
       "    }\n",
       "</style>\n",
       "<table border=\"1\" class=\"dataframe\">\n",
       "  <thead>\n",
       "    <tr style=\"text-align: right;\">\n",
       "      <th></th>\n",
       "      <th>کی گفته مرد گریه نمیکنه!؟!؟ سیلم امشب سیل #اصفهان</th>\n",
       "      <th>SAD</th>\n",
       "    </tr>\n",
       "  </thead>\n",
       "  <tbody>\n",
       "    <tr>\n",
       "      <th>0</th>\n",
       "      <td>عکسی که چند روز پیش گذاشته بودم این فیلم الانش...</td>\n",
       "      <td>OTHER</td>\n",
       "    </tr>\n",
       "    <tr>\n",
       "      <th>1</th>\n",
       "      <td>تنهاییم شبیه تنهاییه ظهرای بچگیم شده وقتی که ه...</td>\n",
       "      <td>SAD</td>\n",
       "    </tr>\n",
       "    <tr>\n",
       "      <th>2</th>\n",
       "      <td>خوبه تمام قسمت‌های گوشی رو محافظت می‌کنه</td>\n",
       "      <td>HAPPY</td>\n",
       "    </tr>\n",
       "    <tr>\n",
       "      <th>3</th>\n",
       "      <td>این خاک مال مردمان است نه حاکمان #ایران #مهسا_...</td>\n",
       "      <td>ANGRY</td>\n",
       "    </tr>\n",
       "    <tr>\n",
       "      <th>4</th>\n",
       "      <td>اگه تو بغلت بودم حالم خیلی بهتر میشد</td>\n",
       "      <td>SAD</td>\n",
       "    </tr>\n",
       "    <tr>\n",
       "      <th>...</th>\n",
       "      <td>...</td>\n",
       "      <td>...</td>\n",
       "    </tr>\n",
       "    <tr>\n",
       "      <th>4918</th>\n",
       "      <td>من از بو و ماندگاریش راضی بودم ، قیمتش هم‌ مناسبه</td>\n",
       "      <td>HAPPY</td>\n",
       "    </tr>\n",
       "    <tr>\n",
       "      <th>4919</th>\n",
       "      <td>گاز نداریم آب نداریم برق نداریم نت نداریم پول ...</td>\n",
       "      <td>SAD</td>\n",
       "    </tr>\n",
       "    <tr>\n",
       "      <th>4920</th>\n",
       "      <td>یکی بهم گفت برنو چرا عاشق نمیشی گفتم ما پول عا...</td>\n",
       "      <td>SAD</td>\n",
       "    </tr>\n",
       "    <tr>\n",
       "      <th>4921</th>\n",
       "      <td>زیادی داریم به قضیه ی گاز میپردازیم فقط فراخوا...</td>\n",
       "      <td>OTHER</td>\n",
       "    </tr>\n",
       "    <tr>\n",
       "      <th>4922</th>\n",
       "      <td>سلام. خیلی مواظبت کنید این ویروس کوفتی رو‌ نگی...</td>\n",
       "      <td>SAD</td>\n",
       "    </tr>\n",
       "  </tbody>\n",
       "</table>\n",
       "<p>4923 rows × 2 columns</p>\n",
       "</div>"
      ],
      "text/plain": [
       "      کی گفته مرد گریه نمیکنه!؟!؟ سیلم امشب سیل #اصفهان    SAD\n",
       "0     عکسی که چند روز پیش گذاشته بودم این فیلم الانش...  OTHER\n",
       "1     تنهاییم شبیه تنهاییه ظهرای بچگیم شده وقتی که ه...    SAD\n",
       "2              خوبه تمام قسمت‌های گوشی رو محافظت می‌کنه  HAPPY\n",
       "3     این خاک مال مردمان است نه حاکمان #ایران #مهسا_...  ANGRY\n",
       "4                  اگه تو بغلت بودم حالم خیلی بهتر میشد    SAD\n",
       "...                                                 ...    ...\n",
       "4918  من از بو و ماندگاریش راضی بودم ، قیمتش هم‌ مناسبه  HAPPY\n",
       "4919  گاز نداریم آب نداریم برق نداریم نت نداریم پول ...    SAD\n",
       "4920  یکی بهم گفت برنو چرا عاشق نمیشی گفتم ما پول عا...    SAD\n",
       "4921  زیادی داریم به قضیه ی گاز میپردازیم فقط فراخوا...  OTHER\n",
       "4922  سلام. خیلی مواظبت کنید این ویروس کوفتی رو‌ نگی...    SAD\n",
       "\n",
       "[4923 rows x 2 columns]"
      ]
     },
     "execution_count": 29,
     "metadata": {},
     "output_type": "execute_result"
    }
   ],
   "source": [
    "df4"
   ]
  },
  {
   "cell_type": "code",
   "execution_count": 30,
   "metadata": {},
   "outputs": [
    {
     "name": "stdout",
     "output_type": "stream",
     "text": [
      "۹۷ روز از بازداشت #آرش_صادقی گذشت! #مهسا_امینی \n",
      "SAD\n"
     ]
    }
   ],
   "source": [
    "import random\n",
    "i= random.randint(0, 4923)\n",
    "print(df4.loc[i, 'کی گفته مرد گریه نمیکنه!؟!؟ سیلم امشب سیل #اصفهان'])\n",
    "print(df4.loc[i, 'SAD'])"
   ]
  },
  {
   "cell_type": "markdown",
   "metadata": {},
   "source": [
    "حله، حالا که دیتا رو پیدا کردی، بریم مرحله به مرحله ببینیم چیکار باید بکنی. جوری توضیح میدم که انگار داری یه بازی مرحله‌ای انجام میدی و هر مرحله رو باید درست رد کنی تا بری بعدی.  \n",
    "\n",
    "---\n",
    "\n",
    "## 🚀 **مرحله ۱: بررسی اولیه دیتاست** (مثل نگاه کردن به نقشه قبل از شروع بازی)  \n",
    "قبل از اینکه هر کاری بکنی، باید یه نگاه کلی به دیتاستت بندازی. این کار کمک می‌کنه که بفهمی:  \n",
    "- **چند تا داده داری؟** (خب گفتی ۱۳,۰۰۰ تا، اوکی)  \n",
    "- **ستون‌های دیتاست چی هستن؟** (مثلاً، ستون متن توییت، ستون برچسب احساسات و ...)  \n",
    "- **مقدار داده‌ها در هر کلاس احساسات چطوره؟** (مثلاً، نکنه ۹۰٪ توییت‌ها \"خوشحال\" باشن و فقط ۱۰٪ بقیه؟ این باعث عدم تعادل میشه)  \n",
    "\n",
    "📌 **کد پیشنهادی برای بررسی اولیه:**  \n",
    "```python\n",
    "import pandas as pd  \n",
    "\n",
    "df = pd.read_csv(\"your_dataset.csv\")  # اینو با اسم فایلت عوض کن\n",
    "print(df.head())  # نمایش ۵ سطر اول\n",
    "print(df.info())  # نمایش اطلاعات کلی درباره دیتاست\n",
    "print(df['label'].value_counts())  # بررسی توزیع برچسب‌ها\n",
    "```\n",
    "✍ **اگر توزیع داده‌ها نامتعادل بود، باید روش‌هایی مثل oversampling یا undersampling رو انجام بدی (بعداً بهش می‌رسیم).**  \n",
    "\n",
    "📌 **منبع پیشنهادی برای بررسی اولیه دیتاست:**  \n",
    "[راهنمای بررسی اولیه دیتا در پانداس](https://towardsdatascience.com/a-gentle-introduction-to-exploratory-data-analysis-f11d843b8184)  \n",
    "\n",
    "---\n",
    "\n",
    "## 🔍 **مرحله ۲: پاکسازی داده‌ها (Data Cleaning)** (مثل تمیز کردن صفحه بازی قبل از شروع)  \n",
    "باید مطمئن بشی که دیتای خامت مشکل خاصی نداره. مشکلات رایج اینا هستن:  \n",
    "✅ **مقادیر خالی (Missing Values)**  \n",
    "✅ **داده‌های تکراری (Duplicate Data)**  \n",
    "✅ **توییت‌های بی‌معنی (مثلاً شامل فقط @ و # و لینک‌ها بدون متن مفید)**  \n",
    "\n",
    "📌 **کد پیشنهادی برای پاکسازی:**  \n",
    "```python\n",
    "# حذف مقادیر خالی\n",
    "df = df.dropna()\n",
    "\n",
    "# حذف مقادیر تکراری\n",
    "df = df.drop_duplicates()\n",
    "\n",
    "# بررسی نمونه‌هایی که فقط شامل لینک و منشن هستن\n",
    "import re\n",
    "df = df[~df['text'].str.match(r'^\\s*(http|@|#).*$', case=False)]\n",
    "```\n",
    "📌 **منبع پیشنهادی:**  \n",
    "[آموزش Data Cleaning در پانداس](https://towardsdatascience.com/the-ultimate-guide-to-data-cleaning-3969843991d4)  \n",
    "\n",
    "---\n",
    "\n",
    "## 🛠 **مرحله ۳: پیش‌پردازش متن (Text Preprocessing)** (مثل تنظیمات اولیه کاراکتر توی بازی)  \n",
    "الان باید متن‌های توییت رو برای مدل آماده کنیم. توییت‌ها معمولاً کثیف هستن و پر از چیزهای اضافی مثل:  \n",
    "❌ لینک‌ها (https://...)  \n",
    "❌ نام‌های کاربری (@user)  \n",
    "❌ هشتگ‌ها (#موضوع)  \n",
    "❌ ایموجی‌ها (😂😡❤️)  \n",
    "❌ حروف اضافی کشیده (\"عاااالیییی\")  \n",
    "\n",
    "📌 **کد پیشنهادی برای تمیز کردن متن:**  \n",
    "```python\n",
    "import re  \n",
    "\n",
    "def clean_text(text):\n",
    "    text = re.sub(r\"http\\S+|www\\S+\", \"\", text)  # حذف لینک‌ها\n",
    "    text = re.sub(r\"@\\S+\", \"\", text)  # حذف منشن‌ها\n",
    "    text = re.sub(r\"#\\S+\", \"\", text)  # حذف هشتگ‌ها\n",
    "    text = re.sub(r\"[^\\w\\s]\", \"\", text)  # حذف علائم نگارشی\n",
    "    text = re.sub(r\"\\s+\", \" \", text).strip()  # حذف فاصله‌های اضافی\n",
    "    return text\n",
    "\n",
    "df[\"clean_text\"] = df[\"text\"].apply(clean_text)\n",
    "```\n",
    "\n",
    "📌 **منبع پیشنهادی:**  \n",
    "[راهنمای پیش‌پردازش متن](https://www.analyticsvidhya.com/blog/2021/06/text-preprocessing-in-nlp-with-python/)  \n",
    "\n",
    "---\n",
    "\n",
    "## 📊 **مرحله ۴: تحلیل داده‌ها (Exploratory Data Analysis - EDA)** (مثل بررسی ویژگی‌های بازی قبل از شروع)  \n",
    "باید یه کم روی دیتات آنالیز انجام بدی که بفهمی:  \n",
    "- **کدوم کلمات بیشتر استفاده شدن؟**  \n",
    "- **طول جملات چقدره؟**  \n",
    "- **احساسات چقدر توزیع شدن؟**  \n",
    "\n",
    "📌 **کد پیشنهادی برای بررسی کلمات پر تکرار:**  \n",
    "```python\n",
    "from collections import Counter\n",
    "import matplotlib.pyplot as plt\n",
    "from wordcloud import WordCloud\n",
    "\n",
    "all_words = \" \".join(df[\"clean_text\"])\n",
    "word_freq = Counter(all_words.split())\n",
    "\n",
    "wordcloud = WordCloud(width=800, height=400, background_color=\"white\").generate_from_frequencies(word_freq)\n",
    "plt.figure(figsize=(10,5))\n",
    "plt.imshow(wordcloud, interpolation=\"bilinear\")\n",
    "plt.axis(\"off\")\n",
    "plt.show()\n",
    "```\n",
    "📌 **منبع پیشنهادی:**  \n",
    "[EDA در NLP](https://towardsdatascience.com/exploratory-data-analysis-eda-for-text-data-b8a26c6a00e7)  \n",
    "\n",
    "---\n",
    "\n",
    "## 🔢 **مرحله ۵: تبدیل متن به عدد (Tokenization & Embedding)** (مثل آماده کردن کاراکترهای بازی برای حرکت)  \n",
    "مدل‌های یادگیری ماشین فقط عدد می‌فهمن، پس باید متن رو به عدد تبدیل کنیم. روش‌های مختلفی وجود داره:  \n",
    "- **Bag of Words (BoW)** – مدل ساده‌ای که فقط تعداد کلمات رو می‌شمره  \n",
    "- **TF-IDF** – مقدار اهمیت هر کلمه در متن  \n",
    "- **Word Embeddings (مثل Word2Vec یا BERT)** – تبدیل کلمات به بردار عددی  \n",
    "\n",
    "📌 **اگر از BERT استفاده کنی:**  \n",
    "```python\n",
    "from transformers import BertTokenizer\n",
    "\n",
    "tokenizer = BertTokenizer.from_pretrained(\"bert-base-multilingual-cased\")\n",
    "tokens = tokenizer(df[\"clean_text\"].tolist(), padding=True, truncation=True, return_tensors=\"pt\")\n",
    "```\n",
    "📌 **منبع پیشنهادی:**  \n",
    "[مقدمه‌ای بر Tokenization](https://towardsdatascience.com/tokenization-for-natural-language-processing-a179a891bad4)  \n",
    "\n",
    "---\n",
    "\n",
    "## 🏗 **مرحله ۶: مدل‌سازی (Training a Model)** (مثل ساختن شخصیت بازی)  \n",
    "باید تصمیم بگیری که از چه مدلی استفاده کنی:  \n",
    "✅ **مدل‌های ساده (مثل Naive Bayes, SVM)** – اگر دیتاست کوچیک باشه  \n",
    "✅ **مدل‌های پیچیده‌تر (مثل LSTM, BERT)** – اگر دیتاست بزرگ باشه و دقت بالا بخوای  \n",
    "\n",
    "📌 **اگر از مدل ساده استفاده کنی:**  \n",
    "```python\n",
    "from sklearn.feature_extraction.text import TfidfVectorizer\n",
    "from sklearn.naive_bayes import MultinomialNB\n",
    "from sklearn.pipeline import Pipeline\n",
    "\n",
    "vectorizer = TfidfVectorizer()\n",
    "model = MultinomialNB()\n",
    "\n",
    "pipeline = Pipeline([\n",
    "    (\"vectorizer\", vectorizer),\n",
    "    (\"classifier\", model)\n",
    "])\n",
    "\n",
    "pipeline.fit(df[\"clean_text\"], df[\"label\"])\n",
    "```\n",
    "📌 **اگر از BERT استفاده کنی:**  \n",
    "[راهنمای آموزش مدل BERT برای تحلیل احساسات](https://huggingface.co/docs/transformers/training)  \n",
    "\n",
    "---\n",
    "\n",
    "## ✅ **مرحله ۷: ارزیابی مدل (Evaluation & Testing)** (مثل بررسی امتیاز بازی)  \n",
    "بعد از آموزش مدل، باید ببینی چقدر خوب کار میکنه. از معیارهای **دقت (Accuracy)، دقت مثبت (Precision)، یادآوری (Recall)** استفاده کن.  \n",
    "\n",
    "📌 **کد ارزیابی مدل:**  \n",
    "```python\n",
    "from sklearn.metrics import classification_report\n",
    "\n",
    "y_pred = pipeline.predict(df_test[\"clean_text\"])\n",
    "print(classification_report(df_test[\"label\"], y_pred))\n",
    "```\n",
    "📌 **منبع پیشنهادی:**  \n",
    "[راهنمای ارزیابی مدل‌های NLP](https://towardsdatascience.com/evaluation-metrics-for-text-classification-1b215e31d685)  \n",
    "\n",
    "---\n",
    "\n",
    "### **حالا تو بگو، تو کدوم مرحله سوال داری؟** 😎"
   ]
  },
  {
   "cell_type": "code",
   "execution_count": 31,
   "metadata": {},
   "outputs": [
    {
     "name": "stdout",
     "output_type": "stream",
     "text": [
      "چه زیبا شد آیت الله رئیسی\n",
      " خادم امام هشتم\n",
      "در هشتمین روز دهه کرامت\n",
      "هشتمین رئیس جمهور ایران شد.\n",
      "#جشن_ملت_ایران\n",
      "joy\n"
     ]
    }
   ],
   "source": [
    "import random\n",
    "\n",
    "# فرض می‌کنیم که احساسات شاد با \"happy\" یا \"joyful\" مشخص می‌شن\n",
    "happy_tweets = df[df['emotion'].isin(['joy'])]\n",
    "\n",
    "# انتخاب یک ردیف تصادفی از داده‌های شاد\n",
    "i = random.randint(0, len(happy_tweets) - 1)\n",
    "print(happy_tweets.iloc[i]['tweet'])\n",
    "print(happy_tweets.iloc[i]['emotion'])\n",
    "\n",
    "\n",
    "\n",
    "\n",
    "# i= random.randint(0, 113829)\n",
    "# print(df.loc[i, 'tweet'])\n",
    "# print(df.loc[i, 'emotion'])"
   ]
  },
  {
   "cell_type": "code",
   "execution_count": null,
   "metadata": {},
   "outputs": [],
   "source": []
  },
  {
   "cell_type": "code",
   "execution_count": 32,
   "metadata": {},
   "outputs": [
    {
     "name": "stdout",
     "output_type": "stream",
     "text": [
      "<class 'pandas.core.frame.DataFrame'>\n",
      "RangeIndex: 113829 entries, 0 to 113828\n",
      "Data columns (total 8 columns):\n",
      " #   Column        Non-Null Count   Dtype \n",
      "---  ------        --------------   ----- \n",
      " 0   tweet         113829 non-null  object\n",
      " 1   replyCount    113829 non-null  int64 \n",
      " 2   retweetCount  113829 non-null  int64 \n",
      " 3   likeCount     113829 non-null  int64 \n",
      " 4   quoteCount    113829 non-null  int64 \n",
      " 5   hashtags      113829 non-null  object\n",
      " 6   sourceLabel   113829 non-null  object\n",
      " 7   emotion       113829 non-null  object\n",
      "dtypes: int64(4), object(4)\n",
      "memory usage: 6.9+ MB\n"
     ]
    }
   ],
   "source": [
    "df.info()"
   ]
  },
  {
   "cell_type": "code",
   "execution_count": 33,
   "metadata": {},
   "outputs": [
    {
     "name": "stdout",
     "output_type": "stream",
     "text": [
      "emotion\n",
      "sad         34328\n",
      "joy         28024\n",
      "anger       20069\n",
      "fear        17624\n",
      "surprise    12859\n",
      "disgust       925\n",
      "Name: count, dtype: int64\n",
      "emotion\n",
      "sad         30.157517\n",
      "joy         24.619385\n",
      "anger       17.630832\n",
      "fear        15.482873\n",
      "surprise    11.296770\n",
      "disgust      0.812622\n",
      "Name: proportion, dtype: float64\n"
     ]
    }
   ],
   "source": [
    "# Check the number of labels\n",
    "print(df['emotion'].value_counts())\n",
    "\n",
    "print(df['emotion'].value_counts(normalize=True) * 100)\n"
   ]
  },
  {
   "cell_type": "code",
   "execution_count": 34,
   "metadata": {},
   "outputs": [],
   "source": [
    "# Drop the Repetitive Rows\n",
    "#df= df.drop_duplicates()"
   ]
  }
 ],
 "metadata": {
  "kernelspec": {
   "display_name": "base",
   "language": "python",
   "name": "python3"
  },
  "language_info": {
   "codemirror_mode": {
    "name": "ipython",
    "version": 3
   },
   "file_extension": ".py",
   "mimetype": "text/x-python",
   "name": "python",
   "nbconvert_exporter": "python",
   "pygments_lexer": "ipython3",
   "version": "3.11.7"
  }
 },
 "nbformat": 4,
 "nbformat_minor": 2
}
