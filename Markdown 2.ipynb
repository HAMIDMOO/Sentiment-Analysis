{
 "cells": [
  {
   "cell_type": "markdown",
   "metadata": {},
   "source": [
    "# 📌 عنوان پروژه\n",
    "هدف پروژه اینه که با تحلیل متنی احساسات لحظه ای فرد رو تشخیص بده و بر اساس  اون حال و مود به کاربر آهنگ پیشنهاد بده"
   ]
  },
  {
   "cell_type": "markdown",
   "metadata": {},
   "source": [
    "## ❓ سوالات باز (Open Questions)\n",
    "- مقاله هایی هستن که بگن برای پردازش متن های فارسی بایستی چیکارا کرد  : محتوایی پیدا نشد اصلا\n",
    "- الان میخوام برم چند تا پروژه NLP فارسی ببینم که اونا چجوری کاراشونو انجام دادن: پروژه ای پیدا نکردم که ایم کارو انجام داده باشه\n",
    "\n",
    "\n",
    "- میشه داده های مختلف رو با هم مرج کرد؟ \n",
    "- بهم یه ایده دیگه داد به جای استفاده از برت\n",
    "- کتابخونه ای بهتر از هضم هست آیا؟/// حالا بزار از این استفاده کنیم\n",
    " \n"
   ]
  },
  {
   "cell_type": "markdown",
   "metadata": {},
   "source": [
    "## 🧠 ایده‌ها و یادداشت‌های لحظه‌ای  \n",
    "1- خودم میتونم اگر تعداد داده سطر های داری مقادیر گم شده کم باشن پرشون کنم \n",
    "2- لمیتایز با استمینگ چه فریقس داره؟.\n",
    "3-  به دلیل اینکه مقدار ایمبالانس رتیو عدد مناسبی داد همین وزن دهی مدل میتونه کارمون رو راه بندازه/// \n",
    "بالانس کردن دیتا هامون\n",
    "4- اضافه کردن احساسات دیگه از زبان انگلیسی\n"
   ]
  },
  {
   "cell_type": "markdown",
   "metadata": {},
   "source": [
    "## 🚧 چالش‌ها و مشکلات  \n",
    "- df3 = df3[~df['tweet'].str.match(r'^\\s*(http|@|#).*$', case=False)] HDK ;N ] این کد چیکار میکنه؟ \n",
    "- بهینه تر میشه کرد کدم رو؟ \n",
    "- regex چیه؟\n",
    "- آريالا با هر بار قطع شدن نت الوش که دیتا ها کلا میپریدش یه کاری که کردم اومدم کد رو جوری نوشتم که میاد هر صد تا عملیاتی که انجام داد رو ذخیره کنه .. این اوکی بود ولی متوجه شدم اینم تو حافظه موقت کولب میره و اگر قط بشی از GPU حذف میشه\n",
    "حالا اومدوم فایل هامو از گوگل درایو هم برمیدارم هم اونحا میریزم تا چیزیش نشه محض احتیاط هم هر 1000 عملیات بیشتر دانلودش میکنم فایلم رو"
   ]
  },
  {
   "cell_type": "markdown",
   "metadata": {},
   "source": [
    "## 🤔 راه‌حل‌های بررسی‌شده و تصمیم‌گیری‌ها  \n",
    "- **مسئله:** (مثلا انتخاب روش توکنایز کردن)  \n",
    "  - نگاشت لیبل‌ها: {'ANGRY': 0, 'FEAR': 1, 'HAPPY': 2, 'HATE': 3, 'OTHER': 4, 'SAD': 5, 'SURPRISE': 6}  \n",
    "  - روش ۲: pros ✅ / cons ❌  \n",
    "  - انتخاب نهایی و دلیلش 🏆  "
   ]
  },
  {
   "cell_type": "markdown",
   "metadata": {},
   "source": [
    "## 🤔 راه‌حل‌های بررسی‌شده و تصمیم‌گیری‌ها  \n",
    "- **مسئله:** (مثلا انتخاب روش توکنایز کردن)  \n",
    "  - نگاشت لیبل‌ها: {'ANGRY': 0, 'FEAR': 1, 'HAPPY': 2, 'HATE': 3, 'OTHER': 4, 'SAD': 5, 'SURPRISE': 6}  \n",
    "  - روش ۲: pros ✅ / cons ❌  \n",
    "  - انتخاب نهایی و دلیلش 🏆  "
   ]
  },
  {
   "cell_type": "markdown",
   "metadata": {},
   "source": [
    "## 🔬 آزمایش‌ها و مشاهدات  \n",
    "- فهمیددم که اشتباهی داشتم رو دیتا ست df کار میکردم و مقادیرش رو میریختم توی df3  \n",
    "نگاشت لیبل‌ها: {'ANGRY': 0, 'FEAR': 1, 'HAPPY': 2, 'HATE': 3, 'OTHER': 4, 'SAD': 5, 'SURPRISE': 6}- نکات جالبی که از خروجی‌ها فهمیدی. "
   ]
  },
  {
   "cell_type": "markdown",
   "metadata": {},
   "source": [
    "\n",
    "## 📅 تسک‌های بعدی (To-Do List)  \n",
    "- [ ] انجام تسک A  \n",
    "- [ ] تست مدل B روی دیتاست C  \n",
    "- [ ] بررسی عملکرد روش X در شرایط مختلف "
   ]
  },
  {
   "cell_type": "markdown",
   "metadata": {},
   "source": [
    "## 🔄 لاگ تغییرات (Changelog)\n",
    "- **[YYYY-MM-DD]** تغییر در روش پیش‌پردازش داده‌ها، حذف stop words به جای lemmatization.  \n",
    "  - دلیل: تست‌های اولیه نشون داد حذف stop words تأثیر بیشتری داره.  \n",
    "- **[YYYY-MM-DD]** بهینه‌سازی مدل، تغییر از LSTM به Transformer.  \n",
    "  - دلیل: مدل LSTM عملکرد کندی داشت و دقت پایینی روی دیتاست‌های حجیم داشت.\n"
   ]
  },
  {
   "cell_type": "markdown",
   "metadata": {},
   "source": [
    "## 🔬 تست مدل‌ها و نتایج\n",
    "| مدل | دقت (Accuracy) | F1-Score | زمان اجرا | یادداشت‌ها |\n",
    "|------|------------|----------|------------|--------------|\n",
    "| BERT | 89.2% | 87.5% | 12 دقیقه | بهترین عملکرد تا الان |\n",
    "| LSTM | 78.5% | 76.3% | 30 دقیقه | کند و دقت پایین |\n",
    "| Naive Bayes | 65.2% | 60.8% | 2 دقیقه | خیلی ساده و ضعیف |\n"
   ]
  },
  {
   "cell_type": "markdown",
   "metadata": {},
   "source": [
    "## 🖼️ ویژوالایزیشن‌ها و اسکرین‌شات‌ها  \n",
    "![Confusion Matrix](./images/confusion_matrix.png)  \n",
    "📌 دقت مدل روی کلاس‌های مختلف  \n"
   ]
  },
  {
   "cell_type": "code",
   "execution_count": null,
   "metadata": {},
   "outputs": [
    {
     "ename": "TypeError",
     "evalue": "Series.to_string() got an unexpected keyword argument 'max_colwidth'",
     "output_type": "error",
     "traceback": [
      "\u001b[1;31m---------------------------------------------------------------------------\u001b[0m",
      "\u001b[1;31mTypeError\u001b[0m                                 Traceback (most recent call last)",
      "Cell \u001b[1;32mIn[7], line 4\u001b[0m\n\u001b[0;32m      1\u001b[0m \u001b[38;5;28;01mimport\u001b[39;00m \u001b[38;5;21;01mpandas\u001b[39;00m \u001b[38;5;28;01mas\u001b[39;00m \u001b[38;5;21;01mpd\u001b[39;00m\n\u001b[0;32m      2\u001b[0m df\u001b[38;5;241m=\u001b[39m pd\u001b[38;5;241m.\u001b[39mread_csv(\u001b[38;5;124m\"\u001b[39m\u001b[38;5;124mC:\u001b[39m\u001b[38;5;130;01m\\\\\u001b[39;00m\u001b[38;5;124mUsers\u001b[39m\u001b[38;5;130;01m\\\\\u001b[39;00m\u001b[38;5;124mhamid\u001b[39m\u001b[38;5;124m\\\u001b[39m\u001b[38;5;124mDownloads\u001b[39m\u001b[38;5;130;01m\\\\\u001b[39;00m\u001b[38;5;124mcheckpoint.csv\u001b[39m\u001b[38;5;124m\"\u001b[39m)\n\u001b[1;32m----> 4\u001b[0m \u001b[38;5;28mprint\u001b[39m(df[\u001b[38;5;124m'\u001b[39m\u001b[38;5;124mclean_text\u001b[39m\u001b[38;5;124m'\u001b[39m]\u001b[38;5;241m.\u001b[39mto_string(max_colwidth\u001b[38;5;241m=\u001b[39m\u001b[38;5;28;01mNone\u001b[39;00m))\n",
      "\u001b[1;31mTypeError\u001b[0m: Series.to_string() got an unexpected keyword argument 'max_colwidth'"
     ]
    }
   ],
   "source": [
    "import pandas as pd\n",
    "df= pd.read_csv(\"C:\\\\Users\\\\hamid\\Downloads\\\\checkpoint.csv\")\n"
   ]
  },
  {
   "cell_type": "code",
   "execution_count": 5,
   "metadata": {},
   "outputs": [],
   "source": [
    "pd.set_option('display.max_colwidth', None)"
   ]
  }
 ],
 "metadata": {
  "kernelspec": {
   "display_name": "base",
   "language": "python",
   "name": "python3"
  },
  "language_info": {
   "codemirror_mode": {
    "name": "ipython",
    "version": 3
   },
   "file_extension": ".py",
   "mimetype": "text/x-python",
   "name": "python",
   "nbconvert_exporter": "python",
   "pygments_lexer": "ipython3",
   "version": "3.11.7"
  }
 },
 "nbformat": 4,
 "nbformat_minor": 2
}
